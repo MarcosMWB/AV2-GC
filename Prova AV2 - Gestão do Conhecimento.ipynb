{
  "cells": [
    {
      "metadata": {},
      "cell_type": "markdown",
      "source": "DISCIPLINA: Gestão do Conhecimento\t PROFESSOR(A): Alex Salgado\nPERÍODO: 7o. TURNO: noite AVALIAÇÃO:\n\nALUNO(A): _\n\nGRAU: VISTO DO PROFESSOR:\n"
    },
    {
      "metadata": {},
      "cell_type": "markdown",
      "source": "# Questão 1 - valor (1,0)\n"
    },
    {
      "metadata": {},
      "cell_type": "markdown",
      "source": "*** Crie um repositório no Github e adicione este arquivo no mesmo\n\n\n1.1 - Você deve escolher uma base de dados aberta que seja possível treinar um modelo de aprendizagem de máquina Supervisionado de Classificação (assim como o exemplo da Iris e Cancer). A partir desta base de dados, você vai treinar o modelo, fazer previsões e calcular a acurácia do mesmo.\nObs.: Não utilizar nenhuma base de dados usada em aula ou nos trabalhos.\nAs bases de dados não poderá ser igual a do seu colega, dessa forma, preencha a planilha abaixo dizendo a sua base e seu tema. \nhttps://forms.gle/CvmN5fr4u2g5zoZRA\n\n\n** Para saber se já escolheram o mesmo que você, consulte no link abaixo.\nhttps://docs.google.com/spreadsheets/d/1E_GuH7C8vn_o-gyOeN5LavoQlByjVQb1UiVfP71OX3g/edit?usp=sharing\n"
    },
    {
      "metadata": {
        "trusted": true
      },
      "cell_type": "code",
      "source": "#Airbnb Berlin database",
      "execution_count": null,
      "outputs": []
    },
    {
      "metadata": {},
      "cell_type": "markdown",
      "source": "1.2 - Após tratada, criar uma pasta no seu GoogleDrive e disponibilizar o link do arquivo de sua base (csv, xlsx, etc) para ser importado no seu código."
    },
    {
      "metadata": {
        "trusted": true
      },
      "cell_type": "code",
      "source": "#https://docs.google.com/spreadsheets/d/1EdqA3UxYcyOeRnXVAr9MbfYJOgmGPU7WeI3a1jbGyBg/edit?usp=sharing",
      "execution_count": null,
      "outputs": []
    },
    {
      "metadata": {},
      "cell_type": "markdown",
      "source": "## Criar um código usando o Jupyter Notebook e responder (através de código) às seguintes questões:\n"
    },
    {
      "metadata": {},
      "cell_type": "markdown",
      "source": "# Questão 2 - valor (1,0)"
    },
    {
      "metadata": {},
      "cell_type": "markdown",
      "source": "2.1 - Importar os modulos python para machine learn e carregar o arquivo \n\n** Sugestão se for do tipo xlsx, usar o read_excel do pandas\nimport pandas as pd\ndt = pd.read_excel(\"meuarquivo.xlsx\")\n"
    },
    {
      "metadata": {
        "trusted": true
      },
      "cell_type": "code",
      "source": "import pandas as pd\ndt = pd.read_excel(\"listings.xlsx\")",
      "execution_count": 13,
      "outputs": []
    },
    {
      "metadata": {},
      "cell_type": "markdown",
      "source": "2.2 - Exibir os primeiros registros desta tabela.\n"
    },
    {
      "metadata": {
        "trusted": true
      },
      "cell_type": "code",
      "source": "dt.head()",
      "execution_count": 14,
      "outputs": [
        {
          "output_type": "execute_result",
          "execution_count": 14,
          "data": {
            "text/plain": "     id                                              name  host_id host_name  \\\n0  2015  Berlin-Mitte Value! Quiet courtyard/very central     2217       Ian   \n1  2695                Prenzlauer Berg close to Mauerpark     2986   Michael   \n2  3176                   Fabulous Flat in great Location     3718    Britta   \n3  3309                 BerlinSpot Schöneberg near KaDeWe     4108      Jana   \n4  7071                  BrightRoom with sunny greenview!    17391    Bright   \n\n      neighbourhood_group             neighbourhood   latitude  longitude  \\\n0                   Mitte           Brunnenstr. Süd  52.534537  13.402557   \n1                  Pankow  Prenzlauer Berg Nordwest  52.548513  13.404553   \n2                  Pankow   Prenzlauer Berg Südwest  52.534996  13.417579   \n3  Tempelhof - Schöneberg           Schöneberg-Nord  52.498855  13.349065   \n4                  Pankow            Helmholtzplatz  52.543157  13.415091   \n\n   room_type  price  minimum_nights  number_of_reviews last_review  \\\n0          1     60               4                118  2018-10-28   \n1          0     17               2                  6  2018-10-01   \n2          1     90              62                143  2017-03-20   \n3          0     26               5                 25  2018-08-16   \n4          0     42               2                197  2018-11-04   \n\n   reviews_per_month  calculated_host_listings_count  availability_365  \n0               3.76                               4               141  \n1               1.42                               1                 0  \n2               1.25                               1               220  \n3               0.39                               1               297  \n4               1.75                               1                26  ",
            "text/html": "<div>\n<table border=\"1\" class=\"dataframe\">\n  <thead>\n    <tr style=\"text-align: right;\">\n      <th></th>\n      <th>id</th>\n      <th>name</th>\n      <th>host_id</th>\n      <th>host_name</th>\n      <th>neighbourhood_group</th>\n      <th>neighbourhood</th>\n      <th>latitude</th>\n      <th>longitude</th>\n      <th>room_type</th>\n      <th>price</th>\n      <th>minimum_nights</th>\n      <th>number_of_reviews</th>\n      <th>last_review</th>\n      <th>reviews_per_month</th>\n      <th>calculated_host_listings_count</th>\n      <th>availability_365</th>\n    </tr>\n  </thead>\n  <tbody>\n    <tr>\n      <th>0</th>\n      <td>2015</td>\n      <td>Berlin-Mitte Value! Quiet courtyard/very central</td>\n      <td>2217</td>\n      <td>Ian</td>\n      <td>Mitte</td>\n      <td>Brunnenstr. Süd</td>\n      <td>52.534537</td>\n      <td>13.402557</td>\n      <td>1</td>\n      <td>60</td>\n      <td>4</td>\n      <td>118</td>\n      <td>2018-10-28</td>\n      <td>3.76</td>\n      <td>4</td>\n      <td>141</td>\n    </tr>\n    <tr>\n      <th>1</th>\n      <td>2695</td>\n      <td>Prenzlauer Berg close to Mauerpark</td>\n      <td>2986</td>\n      <td>Michael</td>\n      <td>Pankow</td>\n      <td>Prenzlauer Berg Nordwest</td>\n      <td>52.548513</td>\n      <td>13.404553</td>\n      <td>0</td>\n      <td>17</td>\n      <td>2</td>\n      <td>6</td>\n      <td>2018-10-01</td>\n      <td>1.42</td>\n      <td>1</td>\n      <td>0</td>\n    </tr>\n    <tr>\n      <th>2</th>\n      <td>3176</td>\n      <td>Fabulous Flat in great Location</td>\n      <td>3718</td>\n      <td>Britta</td>\n      <td>Pankow</td>\n      <td>Prenzlauer Berg Südwest</td>\n      <td>52.534996</td>\n      <td>13.417579</td>\n      <td>1</td>\n      <td>90</td>\n      <td>62</td>\n      <td>143</td>\n      <td>2017-03-20</td>\n      <td>1.25</td>\n      <td>1</td>\n      <td>220</td>\n    </tr>\n    <tr>\n      <th>3</th>\n      <td>3309</td>\n      <td>BerlinSpot Schöneberg near KaDeWe</td>\n      <td>4108</td>\n      <td>Jana</td>\n      <td>Tempelhof - Schöneberg</td>\n      <td>Schöneberg-Nord</td>\n      <td>52.498855</td>\n      <td>13.349065</td>\n      <td>0</td>\n      <td>26</td>\n      <td>5</td>\n      <td>25</td>\n      <td>2018-08-16</td>\n      <td>0.39</td>\n      <td>1</td>\n      <td>297</td>\n    </tr>\n    <tr>\n      <th>4</th>\n      <td>7071</td>\n      <td>BrightRoom with sunny greenview!</td>\n      <td>17391</td>\n      <td>Bright</td>\n      <td>Pankow</td>\n      <td>Helmholtzplatz</td>\n      <td>52.543157</td>\n      <td>13.415091</td>\n      <td>0</td>\n      <td>42</td>\n      <td>2</td>\n      <td>197</td>\n      <td>2018-11-04</td>\n      <td>1.75</td>\n      <td>1</td>\n      <td>26</td>\n    </tr>\n  </tbody>\n</table>\n</div>"
          },
          "metadata": {}
        }
      ]
    },
    {
      "metadata": {},
      "cell_type": "markdown",
      "source": "2.3 - De que se trata esse banco de dados? e que tipo de previsão pode ser feito com ele?\n"
    },
    {
      "metadata": {
        "trusted": true
      },
      "cell_type": "code",
      "source": "#É uma base de dados sobre casas do airbnb berlin, pode ser utilizada para prever o valor das casas do airbnb baseado na latitude e longitude e o tipo de quarto 1= casa/apartamento completo / 2= quarto privado / 3 = quarto compartilhado.",
      "execution_count": null,
      "outputs": []
    },
    {
      "metadata": {},
      "cell_type": "markdown",
      "source": "# Questão 3 - valor (0,5)\n"
    },
    {
      "metadata": {},
      "cell_type": "markdown",
      "source": "Utilizando as terminologias de Machine Learning(features e observações):\n\n"
    },
    {
      "metadata": {},
      "cell_type": "markdown",
      "source": "3.1 - Quantas \"features\" têm nessa base de dados?"
    },
    {
      "metadata": {
        "trusted": true
      },
      "cell_type": "code",
      "source": "shape = dt.shape\nprint('Features: {}'.format(shape[1] - 1))",
      "execution_count": 15,
      "outputs": [
        {
          "output_type": "stream",
          "text": "Features: 15\n",
          "name": "stdout"
        }
      ]
    },
    {
      "metadata": {},
      "cell_type": "markdown",
      "source": "3.2 - Quantas observações têm nessa base de dados?\n"
    },
    {
      "metadata": {
        "trusted": true
      },
      "cell_type": "code",
      "source": "print('Observações: {}'.format(shape[0]))",
      "execution_count": 16,
      "outputs": [
        {
          "output_type": "stream",
          "text": "Observações: 22552\n",
          "name": "stdout"
        }
      ]
    },
    {
      "metadata": {},
      "cell_type": "markdown",
      "source": "# Questão 4 - valor (1,5)\n"
    },
    {
      "metadata": {},
      "cell_type": "markdown",
      "source": "4.1 - Faça uma previsão, usando o algoritmo de LogisticRegression.\n"
    },
    {
      "metadata": {
        "trusted": true
      },
      "cell_type": "code",
      "source": "x_vars = []\nfor column in dt.columns:\n    x_vars.append(column)\nx_vars.remove('price')\nx_vars.remove('minimum_nights')\nx_vars.remove('id')\nx_vars.remove('name')\nx_vars.remove('host_id')\nx_vars.remove('host_name')\nx_vars.remove('neighbourhood_group')\nx_vars.remove('neighbourhood')\nx_vars.remove('number_of_reviews')\nx_vars.remove('last_review')\nx_vars.remove('reviews_per_month')\nx_vars.remove('calculated_host_listings_count')\nx_vars.remove('availability_365')\n\nx = dt[x_vars].values\ny = dt['price'].values\nfrom sklearn.linear_model import LogisticRegression as lr\nlogreg = lr()\nlogreg.fit(x,y)\nlogreg.predict(x)\ny_pred = logreg.predict(x)\nlen(y_pred)",
      "execution_count": 17,
      "outputs": [
        {
          "output_type": "execute_result",
          "execution_count": 17,
          "data": {
            "text/plain": "22552"
          },
          "metadata": {}
        }
      ]
    },
    {
      "metadata": {},
      "cell_type": "markdown",
      "source": "# Questão 5 - valor (2,0)\n"
    },
    {
      "metadata": {},
      "cell_type": "markdown",
      "source": "Usando o método de avaliação de acurácia (Treinar e testar na base de dados inteira/Train test entire model), Calcular a acurácia de cada um dos 3 métodos abaixo."
    },
    {
      "metadata": {},
      "cell_type": "markdown",
      "source": "4.1 - Acurácia usando o algoritmo de KNN (com 1 vizinho, k=1)\n"
    },
    {
      "metadata": {
        "trusted": true
      },
      "cell_type": "code",
      "source": "from sklearn import metrics\nmetrics.accuracy_score(y,y_pred)\n\nfrom sklearn.neighbors import KNeighborsClassifier\nknn = KNeighborsClassifier(n_neighbors=1)\nknn.fit(x, y)\ny_pred = knn.predict(x)\nprint(metrics.accuracy_score(y, y_pred))",
      "execution_count": 27,
      "outputs": [
        {
          "output_type": "stream",
          "text": "1.0\n",
          "name": "stdout"
        }
      ]
    },
    {
      "metadata": {},
      "cell_type": "markdown",
      "source": "4.2 - Acurácia usando o algoritmo de KNN (com 5 vizinho, k=5)\n"
    },
    {
      "metadata": {
        "trusted": true
      },
      "cell_type": "code",
      "source": "from sklearn.neighbors import KNeighborsClassifier\nknn = KNeighborsClassifier(n_neighbors=5)\nknn.fit(x, y)\ny_pred = knn.predict(x)\nprint(metrics.accuracy_score(y, y_pred))",
      "execution_count": 25,
      "outputs": [
        {
          "output_type": "stream",
          "text": "0.27695991486342675\n",
          "name": "stdout"
        }
      ]
    },
    {
      "metadata": {},
      "cell_type": "markdown",
      "source": "4.3 - Acurácia usando o algoritmo de LogisticRegression\n"
    },
    {
      "metadata": {
        "trusted": true
      },
      "cell_type": "code",
      "source": "logreg = lr()\nlogreg.fit(x_train, y_train)\ny_pred = logreg.predict(x_test)\nprint(metrics.accuracy_score(y_test, y_pred))",
      "execution_count": 21,
      "outputs": [
        {
          "output_type": "stream",
          "text": "0.07937035805343089\n",
          "name": "stdout"
        }
      ]
    },
    {
      "metadata": {},
      "cell_type": "markdown",
      "source": "4.4 - De acordo com seus resultados anteriores, qual dos 3 métodos é mais eficiente?\n"
    },
    {
      "metadata": {
        "trusted": true
      },
      "cell_type": "code",
      "source": "print(\"Ambos os resultados foram horríveis, provando que não é possível ser preciso ao estimar o preço para uma casa apenas baseado na localização e tipo de aluguel, porém knn 5 aparenta ser mais eficiente. visto que knn 1 apresentou 100% de precisão, foi descartado.\")",
      "execution_count": 28,
      "outputs": [
        {
          "output_type": "stream",
          "text": "Ambos os resultados foram horríveis, provando que não é possível ser preciso ao estimar o preço para uma casa apenas baseado na localização e tipo de aluguel, porém knn 5 aparenta ser mais eficiente. visto que knn 1 apresentou 100% de precisão, foi descartado.\n",
          "name": "stdout"
        }
      ]
    },
    {
      "metadata": {
        "trusted": true
      },
      "cell_type": "code",
      "source": "*** Envie o link do seu Github com essa resposta no Classroom\n",
      "execution_count": null,
      "outputs": []
    }
  ],
  "metadata": {
    "kernelspec": {
      "name": "python3",
      "display_name": "Python 3",
      "language": "python"
    },
    "language_info": {
      "mimetype": "text/x-python",
      "nbconvert_exporter": "python",
      "name": "python",
      "file_extension": ".py",
      "version": "3.5.4",
      "pygments_lexer": "ipython3",
      "codemirror_mode": {
        "version": 3,
        "name": "ipython"
      }
    }
  },
  "nbformat": 4,
  "nbformat_minor": 2
}